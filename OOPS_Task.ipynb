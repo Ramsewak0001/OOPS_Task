{
 "cells": [
  {
   "cell_type": "code",
   "execution_count": null,
   "id": "22352af0-1f41-4918-b2c2-9e10dc125640",
   "metadata": {},
   "outputs": [],
   "source": [
    "Q1, Create a vehicle class with an init method having instance variables as name_of_vehicle, max_speed and average_of_vehicle."
   ]
  },
  {
   "cell_type": "code",
   "execution_count": 1,
   "id": "8cc50176-06ee-4bc0-a14b-390a5cade8b4",
   "metadata": {},
   "outputs": [],
   "source": [
    "class vehicle :\n",
    "    def __init__(self,name_of_vehicle,max_speed,average_of_vehicle):\n",
    "        self.name_of_vehicle = name_of_vehicle\n",
    "        self.max_speed = max_speed\n",
    "        self.average_of_vehicle = average_of_vehicle"
   ]
  },
  {
   "cell_type": "code",
   "execution_count": 6,
   "id": "cdc614a6-1fdd-46a9-b8b4-35cde79bf84b",
   "metadata": {},
   "outputs": [],
   "source": [
    "car = vehicle(\"Mercedese\" , 200 , 100)"
   ]
  },
  {
   "cell_type": "code",
   "execution_count": 10,
   "id": "e02bcaec-7617-454a-a1e7-afd0499511e3",
   "metadata": {},
   "outputs": [
    {
     "name": "stdout",
     "output_type": "stream",
     "text": [
      "100\n",
      "200\n",
      "Mercedese\n"
     ]
    }
   ],
   "source": [
    "print(car.average_of_vehicle)\n",
    "print(car.max_speed)\n",
    "print(car.name_of_vehicle)"
   ]
  },
  {
   "cell_type": "code",
   "execution_count": null,
   "id": "bbbd8703-ff26-457a-a3e7-db7f9ea4de56",
   "metadata": {},
   "outputs": [],
   "source": [
    "Q2. Create a child class car from the vehicle class created in Que 1, which will inherit the vehicle class.\n",
    "    Create a method named seating_capacity which takes capacity as an argument and returns the name of\n",
    "    the vehicle and its seating capacity."
   ]
  },
  {
   "cell_type": "code",
   "execution_count": 16,
   "id": "0ee13dd6-72e3-42f3-8439-c6ba5f815d5a",
   "metadata": {},
   "outputs": [],
   "source": [
    "    def __init__(self,name_of_vehicle,max_speed,average_of_vehicle):\n",
    "        self.name_of_vehicle = Mercedese\n",
    "        self.max_speed = max_speed\n",
    "        self.average_of_vehicle = average_of_vehicle"
   ]
  },
  {
   "cell_type": "code",
   "execution_count": 17,
   "id": "ad28e751-3de8-4e51-ab46-f5b85d29f1b8",
   "metadata": {},
   "outputs": [],
   "source": [
    "class car(vehicle) :\n",
    "    def seating_capacity(self,capacity):\n",
    "        self.capacity = capacity\n",
    "        return (self.name_of_vehicle,self.capacity)"
   ]
  },
  {
   "cell_type": "code",
   "execution_count": 18,
   "id": "708e32e4-9cde-4308-80ed-77bc3d0fe0d7",
   "metadata": {},
   "outputs": [],
   "source": [
    "car = car(\"Mercedese\" , 200 , 100)"
   ]
  },
  {
   "cell_type": "code",
   "execution_count": 19,
   "id": "12d22018-cb0c-4c6a-97b6-c5450e4cd521",
   "metadata": {},
   "outputs": [
    {
     "data": {
      "text/plain": [
       "('Mercedese', 4)"
      ]
     },
     "execution_count": 19,
     "metadata": {},
     "output_type": "execute_result"
    }
   ],
   "source": [
    "car.seating_capacity(4)"
   ]
  },
  {
   "cell_type": "code",
   "execution_count": null,
   "id": "cf54df33-d09e-4d00-b9bb-efb9c4ada9c5",
   "metadata": {},
   "outputs": [],
   "source": [
    "Q3. What is multiple inheritance? Write a python code to demonstrate multiple inheritance."
   ]
  },
  {
   "cell_type": "code",
   "execution_count": null,
   "id": "12afdd69-842f-417b-b67c-2800de6c4a78",
   "metadata": {},
   "outputs": [],
   "source": [
    "Multiple Inheritance :\n",
    "                      Multiple inheritance in Python refers to the ability of a class to inherit from multiple parent classes.\n",
    "                      To define multiple inheritance in Python, you can list the parent classes within parentheses after the child class name, \n",
    "                      separated by commas.\n",
    "                      one class contain the name of other classes seperated by comma.\n",
    "                      for example:"
   ]
  },
  {
   "cell_type": "code",
   "execution_count": 20,
   "id": "c931fcc9-5695-4d50-8c9d-7fa4eea4b41b",
   "metadata": {},
   "outputs": [],
   "source": [
    "class class1 :\n",
    "    def defination1(self):\n",
    "        print(\"This is my class1\")\n",
    "\n",
    "class class2 :\n",
    "    def defination2(self):\n",
    "        print(\"This is my class2\")\n",
    "\n",
    "class class3(class1,class2):\n",
    "    pass"
   ]
  },
  {
   "cell_type": "code",
   "execution_count": 21,
   "id": "7e9c49c7-80e1-40b9-80b3-433716d1fbcf",
   "metadata": {},
   "outputs": [],
   "source": [
    "obj = class3()"
   ]
  },
  {
   "cell_type": "code",
   "execution_count": 22,
   "id": "d5b6a08f-2563-4b22-a4ba-9e5fbdcac1dd",
   "metadata": {},
   "outputs": [
    {
     "name": "stdout",
     "output_type": "stream",
     "text": [
      "This is my class1\n"
     ]
    }
   ],
   "source": [
    "obj.defination1()"
   ]
  },
  {
   "cell_type": "code",
   "execution_count": 23,
   "id": "ff029cdd-bdd4-497c-9306-c4f76f15c86f",
   "metadata": {},
   "outputs": [
    {
     "name": "stdout",
     "output_type": "stream",
     "text": [
      "This is my class2\n"
     ]
    }
   ],
   "source": [
    "obj.defination2()"
   ]
  },
  {
   "cell_type": "code",
   "execution_count": null,
   "id": "99477d33-af25-4235-9ee4-cf7d2c9e369c",
   "metadata": {},
   "outputs": [],
   "source": [
    "Q4. What are getter and setter in python? Create a class and create a getter and a setter method in this class."
   ]
  },
  {
   "cell_type": "code",
   "execution_count": null,
   "id": "e2d1cbc3-a6a3-430c-b437-eca535fb23cf",
   "metadata": {},
   "outputs": [],
   "source": [
    "Getter and Setter :\n",
    "                  If we want to give assce to the user to get and set the private variable value to avoid direct access of a \n",
    "                 class field i.e. private variables cannot be accessed directly or modified by external user we use getter and setter property.\n",
    "                 we can define a method as a getter or setter by using the @property decorator and the corresponding method name with @methodname.setter"
   ]
  },
  {
   "cell_type": "code",
   "execution_count": 43,
   "id": "812d9e16-36ec-44fa-bf2f-230247add085",
   "metadata": {},
   "outputs": [],
   "source": [
    "class bank_account :\n",
    "    def __init__(self,balance):\n",
    "        self.__min_balance = balance\n",
    "    @property\n",
    "    def access_balance(self):\n",
    "        return self.__min_balance\n",
    "    @access_balance.setter\n",
    "    def set_min_balance(self,amount):\n",
    "        if amount >=1000 :\n",
    "            self.__min_balance = amount\n",
    "        else :\n",
    "            pass\n",
    "        "
   ]
  },
  {
   "cell_type": "code",
   "execution_count": 44,
   "id": "e4aff339-5c27-4728-9378-c360f5a681f6",
   "metadata": {},
   "outputs": [],
   "source": [
    "bank = bank_account(3000)"
   ]
  },
  {
   "cell_type": "code",
   "execution_count": 45,
   "id": "57032cd4-f464-4705-ad30-b655b956b69f",
   "metadata": {},
   "outputs": [
    {
     "data": {
      "text/plain": [
       "3000"
      ]
     },
     "execution_count": 45,
     "metadata": {},
     "output_type": "execute_result"
    }
   ],
   "source": [
    "bank.access_balance"
   ]
  },
  {
   "cell_type": "code",
   "execution_count": 46,
   "id": "b4ca39b4-6f58-42a8-bf0a-6b388a8c6315",
   "metadata": {},
   "outputs": [],
   "source": [
    "bank.set_min_balance = 100"
   ]
  },
  {
   "cell_type": "code",
   "execution_count": 47,
   "id": "2e540f54-941c-4035-b966-db3b29a3a8f1",
   "metadata": {},
   "outputs": [
    {
     "data": {
      "text/plain": [
       "3000"
      ]
     },
     "execution_count": 47,
     "metadata": {},
     "output_type": "execute_result"
    }
   ],
   "source": [
    "bank.access_balance"
   ]
  },
  {
   "cell_type": "code",
   "execution_count": 48,
   "id": "c5107fba-d8c7-4055-a1d9-b1af44de5b4b",
   "metadata": {},
   "outputs": [],
   "source": [
    "bank.set_min_balance = 1001"
   ]
  },
  {
   "cell_type": "code",
   "execution_count": 49,
   "id": "d23bad82-e1dd-486f-901f-61b8bf8f73d3",
   "metadata": {},
   "outputs": [
    {
     "data": {
      "text/plain": [
       "1001"
      ]
     },
     "execution_count": 49,
     "metadata": {},
     "output_type": "execute_result"
    }
   ],
   "source": [
    "bank.access_balance"
   ]
  },
  {
   "cell_type": "code",
   "execution_count": null,
   "id": "f0b0d66d-e732-4054-9c36-828d5b6782c3",
   "metadata": {},
   "outputs": [],
   "source": [
    "Q5.What is method overriding in python? Write a python code to demonstrate method overriding."
   ]
  },
  {
   "cell_type": "code",
   "execution_count": null,
   "id": "dfa0f1a8-5521-463e-84ef-1e6d4b0f268e",
   "metadata": {},
   "outputs": [],
   "source": [
    "The overriding method allows a child class to provide a specific implementation of a method that is already provided by one of its parent classes.\n",
    "Method overriding allows a child class to provide its own implementation of a method that is already defined in its parent class.\n",
    "for example :"
   ]
  },
  {
   "cell_type": "code",
   "execution_count": 51,
   "id": "7f639280-c0b7-47ed-8401-401f2521cea5",
   "metadata": {},
   "outputs": [],
   "source": [
    "class parent :\n",
    "    def course_name(self):\n",
    "        print(\"This is DSM Assignment\")\n",
    "class child(parent):\n",
    "    def course_name(self):\n",
    "        print(\"This is Data Science Master Assignment\")"
   ]
  },
  {
   "cell_type": "code",
   "execution_count": 52,
   "id": "217fa0cb-569e-488b-8b7b-df4702850c05",
   "metadata": {},
   "outputs": [],
   "source": [
    "obj_1 = parent()"
   ]
  },
  {
   "cell_type": "code",
   "execution_count": 53,
   "id": "45c7be72-a1ac-4ac6-b34e-240b7b5566dd",
   "metadata": {},
   "outputs": [],
   "source": [
    "obj_2 = child()"
   ]
  },
  {
   "cell_type": "code",
   "execution_count": 57,
   "id": "d6898467-8404-4747-8019-875f4f8aef32",
   "metadata": {},
   "outputs": [
    {
     "name": "stdout",
     "output_type": "stream",
     "text": [
      "This is DSM Assignment\n"
     ]
    }
   ],
   "source": [
    "obj_1.course_name()"
   ]
  },
  {
   "cell_type": "code",
   "execution_count": 58,
   "id": "a420e321-c646-4fcc-ab59-8f311314d3cf",
   "metadata": {},
   "outputs": [
    {
     "name": "stdout",
     "output_type": "stream",
     "text": [
      "This is Data Science Master Assignment\n"
     ]
    }
   ],
   "source": [
    "obj_2.course_name()"
   ]
  },
  {
   "cell_type": "code",
   "execution_count": null,
   "id": "e21b62f7-89a2-4f1d-b8de-a9a9118403f2",
   "metadata": {},
   "outputs": [],
   "source": []
  }
 ],
 "metadata": {
  "kernelspec": {
   "display_name": "Python 3 (ipykernel)",
   "language": "python",
   "name": "python3"
  },
  "language_info": {
   "codemirror_mode": {
    "name": "ipython",
    "version": 3
   },
   "file_extension": ".py",
   "mimetype": "text/x-python",
   "name": "python",
   "nbconvert_exporter": "python",
   "pygments_lexer": "ipython3",
   "version": "3.10.8"
  }
 },
 "nbformat": 4,
 "nbformat_minor": 5
}
